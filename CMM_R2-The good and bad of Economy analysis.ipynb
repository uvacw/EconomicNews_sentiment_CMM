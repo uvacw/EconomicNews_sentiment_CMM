{
 "cells": [
  {
   "cell_type": "markdown",
   "metadata": {},
   "source": [
    "# Communication Methods & Measures - R2\n",
    "\n",
    "### Main changes:\n",
    "* Creating scatterplots for each pair of classifiers\n",
    "* Reporting Krippendorff's alpha (and confidence intervals) instead of correlations\n",
    "* \"readability_score\" module used: https://github.com/wimmuskee/readability-score)\n",
    "* For Krippendorff's Alpha calculations: used same predictions as in R0 (used for precision/recall) yet with KAlpha = ordinal\n",
    "\n",
    "\n",
    "\n",
    "# Preparation"
   ]
  },
  {
   "cell_type": "markdown",
   "metadata": {},
   "source": [
    "## Configure IPython"
   ]
  },
  {
   "cell_type": "code",
   "execution_count": 1,
   "metadata": {
    "scrolled": false
   },
   "outputs": [],
   "source": [
    "# activate plots\n",
    "%matplotlib inline"
   ]
  },
  {
   "cell_type": "markdown",
   "metadata": {},
   "source": [
    "## Load libraries"
   ]
  },
  {
   "cell_type": "code",
   "execution_count": 2,
   "metadata": {
    "scrolled": false
   },
   "outputs": [],
   "source": [
    "from scripts_r2 import analyze # some analysis helper functions for this paper\n",
    "import pandas \n",
    "import datetime\n",
    "import os\n",
    "import numpy\n",
    "import statsmodels.formula.api as sm\n",
    "import seaborn"
   ]
  },
  {
   "cell_type": "markdown",
   "metadata": {},
   "source": [
    "## prepare some visualization stuff"
   ]
  },
  {
   "cell_type": "code",
   "execution_count": 3,
   "metadata": {
    "scrolled": false
   },
   "outputs": [],
   "source": [
    "seaborn.set(rc={'figure.figsize':(11.7,8.27)})\n",
    "corplot = lambda cortable, title: seaborn.heatmap(cortable, linewidth=.1, annot=True, cmap=\"RdBu_r\", vmin=-1, vmax=1).set_title(title)\n",
    "tool_order = [ \"recessie\" , \"boukes\",\"LIWC\",\"sentistrength\",\"pattern\",\"polyglot\",\"DANEW\"]\n",
    "text_order = [\"text_\"+tool for tool in tool_order]\n",
    "title_order = [\"title_\"+tool for tool in tool_order]"
   ]
  },
  {
   "cell_type": "markdown",
   "metadata": {},
   "source": [
    "# Preprocessing"
   ]
  },
  {
   "cell_type": "code",
   "execution_count": 4,
   "metadata": {
    "scrolled": false
   },
   "outputs": [],
   "source": [
    "path_to_files = \"./data\"\n",
    "coded_files   = \"./results/data_with_sentiment.csv\"\n",
    "os.makedirs('results',exist_ok=True)"
   ]
  },
  {
   "cell_type": "markdown",
   "metadata": {},
   "source": [
    "## Do or Load Sentiment analysis"
   ]
  },
  {
   "cell_type": "code",
   "execution_count": 5,
   "metadata": {
    "scrolled": false
   },
   "outputs": [
    {
     "name": "stdout",
     "output_type": "stream",
     "text": [
      "Using previously stored computations\n",
      "filtered out 215 observations\n"
     ]
    }
   ],
   "source": [
    "# If sentiments have not yet been computed\n",
    "if not os.path.exists(coded_files):\n",
    "    print(\"Starting from scratch\")\n",
    "    raw_data = analyze.load_files(path_to_files)\n",
    "    print(\"Recoding\")\n",
    "    rec_data = analyze.recode_annotations(raw_data) \n",
    "    print(\"Adding sentiment\")\n",
    "    sen_data = analyze.add_sentiments(analyze.add_sentiments(rec_data,'text'),'title')\n",
    "    print(\"Adding linguistic features for error analysis\")\n",
    "    tex_data = analyze.add_text_properties(analyze.add_text_properties(sen_data,'text'),'title')\n",
    "    print(\"Writing results to disk\")\n",
    "    tex_data.to_csv(coded_files)\n",
    "    data = tex_data\n",
    "# If sentiments have been computed\n",
    "else:\n",
    "    print(\"Using previously stored computations\")\n",
    "    data = pandas.read_csv(coded_files)\n",
    "\n",
    "data.index = data.ID\n",
    "\n",
    "# Add LIWC results if available\n",
    "if \"LIWC2015 Results (ID_Text.csv).csv\" in os.listdir(path_to_files):\n",
    "    text_liwc = pandas.read_csv(os.path.join(path_to_files,\"LIWC2015 Results (ID_Text.csv).csv\"))\n",
    "    text_liwc = pandas.DataFrame({'ID':text_liwc.A, 'text_LIWC':text_liwc.Posemo - text_liwc.Negemo}).loc[2:,:]\n",
    "    text_liwc.index = text_liwc.ID.astype(\"float64\")\n",
    "    data = data.join(text_liwc.drop('ID',1))\n",
    "    \n",
    "if \"LIWC2015 Results (ID_Title.csv).csv\" in os.listdir(path_to_files):\n",
    "    title_liwc = pandas.read_csv(os.path.join(path_to_files,\"LIWC2015 Results (ID_Title.csv).csv\"))\n",
    "    title_liwc = pandas.DataFrame({'ID':title_liwc.A, 'title_LIWC':title_liwc.Posemo - title_liwc.Negemo}).loc[2:,:]\n",
    "    title_liwc.index = title_liwc.ID.astype(\"float64\")\n",
    "    data = data.join(title_liwc.drop('ID',1))\n",
    "    \n",
    "# Set time-based index\n",
    "todate = lambda d: datetime.datetime.strptime(d.replace('T',' ').split('.')[0],'%Y-%m-%d %H:%M:%S')\n",
    "data.index = data.date_y.map(todate) # saving as CSV breaks the timeindex, so we reconstruct it here\n",
    "    \n",
    "\n",
    "# Filter out timepoints after which data becomes too sparse\n",
    "filtered = (data.index >= datetime.datetime(year=2015,month=7,day=7)).sum()\n",
    "data = data[data.index < datetime.datetime(year=2015,month=7,day=7)] \n",
    "print(\"filtered out\",filtered, \"observations\")\n",
    "\n",
    "data = data[~data.index.dayofweek.isin([0,6])]"
   ]
  },
  {
   "cell_type": "code",
   "execution_count": 6,
   "metadata": {},
   "outputs": [
    {
     "data": {
      "text/plain": [
       "date_y                         0\n",
       "Codeur                         0\n",
       "Day_in_2015                    0\n",
       "Economisch_Ja                  0\n",
       "Hoofd_OW                     120\n",
       "ID                             0\n",
       "Posit_Nega                   121\n",
       "Source                         0\n",
       "Toon_Kop                     114\n",
       "date_x                         0\n",
       "headline                       0\n",
       "outlet                         0\n",
       "date_y.1                       0\n",
       "type                           0\n",
       "source                         0\n",
       "title                          0\n",
       "text                           0\n",
       "online                         0\n",
       "quality                        0\n",
       "title_gold                  1166\n",
       "text_gold                   4380\n",
       "text_polyglot                  0\n",
       "text_pattern                   0\n",
       "text_DANEW                     0\n",
       "text_boukes                    0\n",
       "text_sentistrength             0\n",
       "text_recessie                  0\n",
       "title_polyglot                 0\n",
       "title_pattern                  0\n",
       "title_DANEW                    0\n",
       "title_boukes                   0\n",
       "title_sentistrength            0\n",
       "title_recessie                 0\n",
       "Flesch_text                    0\n",
       "letter_count_text              0\n",
       "polysyllword_count_text        0\n",
       "sent_count_text                0\n",
       "sentlen_average_text           0\n",
       "simpleword_count_text          0\n",
       "syll_count_text                0\n",
       "word_count_text                0\n",
       "wordlen_average_text           0\n",
       "wordletter_average_text        0\n",
       "wordsent_average_text          0\n",
       "Flesch_title                   0\n",
       "letter_count_title             0\n",
       "polysyllword_count_title       0\n",
       "sent_count_title               0\n",
       "sentlen_average_title          0\n",
       "simpleword_count_title         0\n",
       "syll_count_title               0\n",
       "word_count_title               0\n",
       "wordlen_average_title          0\n",
       "wordletter_average_title       0\n",
       "wordsent_average_title         0\n",
       "text_LIWC                      0\n",
       "title_LIWC                     0\n",
       "dtype: int64"
      ]
     },
     "execution_count": 6,
     "metadata": {},
     "output_type": "execute_result"
    }
   ],
   "source": [
    "data.isna().sum()"
   ]
  },
  {
   "cell_type": "markdown",
   "metadata": {},
   "source": [
    "## order columns appropriately"
   ]
  },
  {
   "cell_type": "code",
   "execution_count": 7,
   "metadata": {
    "scrolled": false
   },
   "outputs": [],
   "source": [
    "data.index = range(len(data))\n",
    "red = data.copy()\n",
    "data = data.drop(text_order,axis=1)\n",
    "data = data.drop(title_order,axis=1)\n",
    "data = data.join(red[text_order])\n",
    "data = data.join(red[title_order])\n",
    "del(red)\n",
    "data.index = data.index = data.date_y.map(todate) # saving as CSV breaks the timeindex, so we reconstruct it here"
   ]
  },
  {
   "cell_type": "markdown",
   "metadata": {},
   "source": [
    "### Option to toggle non-relevant human annotations to '0'"
   ]
  },
  {
   "cell_type": "code",
   "execution_count": 8,
   "metadata": {
    "scrolled": false
   },
   "outputs": [],
   "source": [
    "#data.text_gold = data.text_gold.replace({numpy.nan:0})\n",
    "#data.title_gold = data.title_gold.replace({numpy.nan:0})"
   ]
  },
  {
   "cell_type": "markdown",
   "metadata": {},
   "source": [
    "## Resulting crosstabs for gold annotations"
   ]
  },
  {
   "cell_type": "code",
   "execution_count": 9,
   "metadata": {
    "scrolled": false
   },
   "outputs": [
    {
     "name": "stdout",
     "output_type": "stream",
     "text": [
      "Fulltext crosstab\n"
     ]
    },
    {
     "data": {
      "text/html": [
       "<div>\n",
       "<style scoped>\n",
       "    .dataframe tbody tr th:only-of-type {\n",
       "        vertical-align: middle;\n",
       "    }\n",
       "\n",
       "    .dataframe tbody tr th {\n",
       "        vertical-align: top;\n",
       "    }\n",
       "\n",
       "    .dataframe thead th {\n",
       "        text-align: right;\n",
       "    }\n",
       "</style>\n",
       "<table border=\"1\" class=\"dataframe\">\n",
       "  <thead>\n",
       "    <tr style=\"text-align: right;\">\n",
       "      <th></th>\n",
       "      <th>online</th>\n",
       "      <th>online_%</th>\n",
       "      <th>offline</th>\n",
       "      <th>offline_%</th>\n",
       "      <th>total</th>\n",
       "    </tr>\n",
       "  </thead>\n",
       "  <tbody>\n",
       "    <tr>\n",
       "      <th>-2.0</th>\n",
       "      <td>61</td>\n",
       "      <td>0.24</td>\n",
       "      <td>265</td>\n",
       "      <td>0.23</td>\n",
       "      <td>326</td>\n",
       "    </tr>\n",
       "    <tr>\n",
       "      <th>-1.0</th>\n",
       "      <td>43</td>\n",
       "      <td>0.17</td>\n",
       "      <td>225</td>\n",
       "      <td>0.19</td>\n",
       "      <td>268</td>\n",
       "    </tr>\n",
       "    <tr>\n",
       "      <th>0.0</th>\n",
       "      <td>10</td>\n",
       "      <td>0.04</td>\n",
       "      <td>120</td>\n",
       "      <td>0.10</td>\n",
       "      <td>130</td>\n",
       "    </tr>\n",
       "    <tr>\n",
       "      <th>1.0</th>\n",
       "      <td>64</td>\n",
       "      <td>0.25</td>\n",
       "      <td>274</td>\n",
       "      <td>0.23</td>\n",
       "      <td>338</td>\n",
       "    </tr>\n",
       "    <tr>\n",
       "      <th>2.0</th>\n",
       "      <td>77</td>\n",
       "      <td>0.30</td>\n",
       "      <td>287</td>\n",
       "      <td>0.25</td>\n",
       "      <td>364</td>\n",
       "    </tr>\n",
       "  </tbody>\n",
       "</table>\n",
       "</div>"
      ],
      "text/plain": [
       "      online  online_%  offline  offline_%  total\n",
       "-2.0      61      0.24      265       0.23    326\n",
       "-1.0      43      0.17      225       0.19    268\n",
       " 0.0      10      0.04      120       0.10    130\n",
       " 1.0      64      0.25      274       0.23    338\n",
       " 2.0      77      0.30      287       0.25    364"
      ]
     },
     "execution_count": 9,
     "metadata": {},
     "output_type": "execute_result"
    }
   ],
   "source": [
    "print(\"Fulltext crosstab\")\n",
    "pandas.DataFrame(\n",
    "    {\n",
    "        'online':data.text_gold[data.online].value_counts(),\n",
    "        'online_%': round(data.text_gold[data.online].value_counts()/data.text_gold[data.online].value_counts().sum(),2),\n",
    "        'offline':data.text_gold[~data.online].value_counts(),\n",
    "        'offline_%': round(data.text_gold[~data.online].value_counts()/data.text_gold[~data.online].value_counts().sum(),2),\n",
    "        'total': data.text_gold.value_counts()\n",
    "    }\n",
    ").sort_index()"
   ]
  },
  {
   "cell_type": "code",
   "execution_count": 10,
   "metadata": {
    "scrolled": false
   },
   "outputs": [
    {
     "name": "stdout",
     "output_type": "stream",
     "text": [
      "Headline crosstab\n"
     ]
    },
    {
     "data": {
      "text/html": [
       "<div>\n",
       "<style scoped>\n",
       "    .dataframe tbody tr th:only-of-type {\n",
       "        vertical-align: middle;\n",
       "    }\n",
       "\n",
       "    .dataframe tbody tr th {\n",
       "        vertical-align: top;\n",
       "    }\n",
       "\n",
       "    .dataframe thead th {\n",
       "        text-align: right;\n",
       "    }\n",
       "</style>\n",
       "<table border=\"1\" class=\"dataframe\">\n",
       "  <thead>\n",
       "    <tr style=\"text-align: right;\">\n",
       "      <th></th>\n",
       "      <th>online</th>\n",
       "      <th>online_%</th>\n",
       "      <th>offline</th>\n",
       "      <th>offline_%</th>\n",
       "      <th>total</th>\n",
       "    </tr>\n",
       "  </thead>\n",
       "  <tbody>\n",
       "    <tr>\n",
       "      <th>-1.0</th>\n",
       "      <td>244</td>\n",
       "      <td>0.31</td>\n",
       "      <td>1280</td>\n",
       "      <td>0.33</td>\n",
       "      <td>1524</td>\n",
       "    </tr>\n",
       "    <tr>\n",
       "      <th>0.0</th>\n",
       "      <td>368</td>\n",
       "      <td>0.47</td>\n",
       "      <td>1640</td>\n",
       "      <td>0.43</td>\n",
       "      <td>2008</td>\n",
       "    </tr>\n",
       "    <tr>\n",
       "      <th>1.0</th>\n",
       "      <td>173</td>\n",
       "      <td>0.22</td>\n",
       "      <td>935</td>\n",
       "      <td>0.24</td>\n",
       "      <td>1108</td>\n",
       "    </tr>\n",
       "  </tbody>\n",
       "</table>\n",
       "</div>"
      ],
      "text/plain": [
       "      online  online_%  offline  offline_%  total\n",
       "-1.0     244      0.31     1280       0.33   1524\n",
       " 0.0     368      0.47     1640       0.43   2008\n",
       " 1.0     173      0.22      935       0.24   1108"
      ]
     },
     "execution_count": 10,
     "metadata": {},
     "output_type": "execute_result"
    }
   ],
   "source": [
    "print(\"Headline crosstab\")\n",
    "pandas.DataFrame(\n",
    "    {\n",
    "        'online':data.title_gold[data.online].value_counts(),\n",
    "        'online_%': round(data.title_gold[data.online].value_counts()/data.title_gold[data.online].value_counts().sum(),2),\n",
    "        'offline':data.title_gold[~data.online].value_counts(),\n",
    "        'offline_%': round(data.title_gold[~data.online].value_counts()/data.title_gold[~data.online].value_counts().sum(),2),\n",
    "        'total': data.title_gold.value_counts()\n",
    "    }\n",
    ").sort_index()"
   ]
  },
  {
   "cell_type": "markdown",
   "metadata": {},
   "source": [
    "## Computing fleiss-scores"
   ]
  },
  {
   "cell_type": "code",
   "execution_count": 11,
   "metadata": {
    "scrolled": false
   },
   "outputs": [
    {
     "name": "stdout",
     "output_type": "stream",
     "text": [
      "Headline Fleiss score, N:  (-0.054945054945054944, 8)\n",
      "Fulltext Fleiss score, N:  (0.23809523809523808, 8)\n"
     ]
    }
   ],
   "source": [
    "annotations = pandas.read_csv(os.path.join(path_to_files, \"Inhoudsanalyse_AllesMerged_noICR_toneOnly.csv\"),delimiter=\";\")\n",
    "annotations = annotations.replace({\" \":numpy.nan})\n",
    "#annotations[[\"Toon_Kop\",\"Posit_Nega\"]] = annotations[[\"Toon_Kop\",\"Posit_Nega\"]].astype(float)\n",
    "\n",
    "\n",
    "print(\"Headline Fleiss score, N: \", analyze.calculate_intercoder_reliability(annotations, \"ID\",\"Codeur\",\"Toon_Kop\"))\n",
    "print(\"Fulltext Fleiss score, N: \", analyze.calculate_intercoder_reliability(annotations, \"ID\",\"Codeur\",\"Posit_Nega\"))"
   ]
  },
  {
   "cell_type": "markdown",
   "metadata": {},
   "source": [
    "## Add 'the best of the best' models"
   ]
  },
  {
   "cell_type": "code",
   "execution_count": 12,
   "metadata": {
    "scrolled": false
   },
   "outputs": [],
   "source": [
    "data = analyze.z_best(data, 'title', list(reversed([\"LIWC\",\"polyglot\",\"sentistrength\",\"DANEW\"])))\n",
    "data = analyze.z_best(data, 'text', list(reversed([\"LIWC\",\"polyglot\",\"sentistrength\",\"DANEW\"])))"
   ]
  },
  {
   "cell_type": "markdown",
   "metadata": {},
   "source": [
    "## Agregations "
   ]
  },
  {
   "cell_type": "code",
   "execution_count": 13,
   "metadata": {
    "scrolled": false
   },
   "outputs": [],
   "source": [
    "article_data = data.copy()\n",
    "daily_data   = data.copy().resample(\"1D\").mean()\n",
    "weekly_data  = data.copy().resample(\"1W\").mean()"
   ]
  },
  {
   "cell_type": "code",
   "execution_count": 14,
   "metadata": {
    "scrolled": false
   },
   "outputs": [
    {
     "data": {
      "text/plain": [
       "<matplotlib.axes._subplots.AxesSubplot at 0x7f0e12ab4630>"
      ]
     },
     "execution_count": 14,
     "metadata": {},
     "output_type": "execute_result"
    },
    {
     "data": {
      "image/png": "[encoded data removed]",
      "text/plain": [
       "<Figure size 842.4x595.44 with 1 Axes>"
      ]
     },
     "metadata": {},
     "output_type": "display_data"
    }
   ],
   "source": [
    "article_data.resample(\"1D\").count().date_y.plot()"
   ]
  },
  {
   "cell_type": "markdown",
   "metadata": {},
   "source": [
    "### Errors"
   ]
  },
  {
   "cell_type": "code",
   "execution_count": 15,
   "metadata": {
    "scrolled": false
   },
   "outputs": [],
   "source": [
    "# article level errors\n",
    "article_text_errors  = analyze.calculate_errors(article_data,'text')\n",
    "article_title_errors = analyze.calculate_errors(article_data,'title')\n",
    "# daily level errors\n",
    "daily_text_errors  = analyze.calculate_errors(daily_data, 'text')\n",
    "daily_title_errors = analyze.calculate_errors(daily_data, 'title')\n",
    "# weekly level errors\n",
    "weekly_text_errors  = analyze.calculate_errors(weekly_data, 'text')\n",
    "weekly_title_errors = analyze.calculate_errors(weekly_data, 'title')"
   ]
  },
  {
   "cell_type": "markdown",
   "metadata": {},
   "source": [
    "# Scatterplots"
   ]
  },
  {
   "cell_type": "code",
   "execution_count": 16,
   "metadata": {},
   "outputs": [
    {
     "name": "stdout",
     "output_type": "stream",
     "text": [
      "                     count      mean       std       min       25%       50%  \\\n",
      "text_recessie       1426.0 -0.039271  0.194306 -1.000000  0.000000  0.000000   \n",
      "text_boukes         1426.0  0.575736  1.708661 -9.000000  0.000000  0.000000   \n",
      "text_LIWC           1426.0  0.265035  1.197659 -4.000000 -0.430000  0.000000   \n",
      "text_sentistrength  1426.0 -0.686536  0.939160 -3.000000 -1.000000 -1.000000   \n",
      "text_pattern        1426.0  0.039773  0.099160 -0.575000 -0.014911  0.040563   \n",
      "text_polyglot       1426.0  0.165750  0.223018 -1.000000  0.032258  0.166667   \n",
      "text_DANEW          1426.0  0.045519  0.025625 -0.086960  0.029726  0.044263   \n",
      "text_gold           1426.0  0.102384  1.533498 -2.000000 -1.000000  0.000000   \n",
      "text_top3           1426.0  0.089412  0.722280 -2.020815 -0.375797  0.078692   \n",
      "\n",
      "                         75%        max  \n",
      "text_recessie       0.000000   0.000000  \n",
      "text_boukes         1.000000  14.000000  \n",
      "text_LIWC           0.910000   8.700000  \n",
      "text_sentistrength  0.000000   2.000000  \n",
      "text_pattern        0.098846   0.600000  \n",
      "text_polyglot       0.299561   1.000000  \n",
      "text_DANEW          0.060010   0.150069  \n",
      "text_gold           2.000000   2.000000  \n",
      "text_top3           0.534656   3.291406  \n"
     ]
    }
   ],
   "source": [
    "analyze.export_scatterplots(article_data, \"text\", tool_order, \"scatterplots_r2\", standardization=False)"
   ]
  },
  {
   "cell_type": "code",
   "execution_count": 17,
   "metadata": {},
   "outputs": [
    {
     "name": "stdout",
     "output_type": "stream",
     "text": [
      "                     count        mean         std  min         25%  \\\n",
      "text_recessie       1426.0   -0.039271    0.194306 -1.0    0.000000   \n",
      "text_boukes         1426.0   -0.167327    0.148579 -1.0   -0.217391   \n",
      "text_LIWC           1426.0   -0.328341    0.188608 -1.0   -0.437795   \n",
      "text_sentistrength  1426.0   -0.074614    0.375664 -1.0   -0.200000   \n",
      "text_pattern        1426.0    0.046421    0.168783 -1.0   -0.046656   \n",
      "text_polyglot       1426.0    0.165750    0.223018 -1.0    0.032258   \n",
      "text_DANEW          1426.0    0.117831    0.216215 -1.0   -0.015425   \n",
      "text_gold           1426.0    0.051192    0.766749 -1.0   -0.500000   \n",
      "text_top3           1426.0   -0.205520    0.271931 -1.0   -0.380666   \n",
      "ID                  1426.0  712.500000  411.795054  0.0  356.250000   \n",
      "\n",
      "                           50%          75%     max  \n",
      "text_recessie         0.000000     0.000000     0.0  \n",
      "text_boukes          -0.217391    -0.130435     1.0  \n",
      "text_LIWC            -0.370079    -0.226772     1.0  \n",
      "text_sentistrength   -0.200000     0.200000     1.0  \n",
      "text_pattern          0.047766     0.146972     1.0  \n",
      "text_polyglot         0.166667     0.299561     1.0  \n",
      "text_DANEW            0.107234     0.240106     1.0  \n",
      "text_gold             0.000000     1.000000     1.0  \n",
      "text_top3            -0.209556    -0.037890     1.0  \n",
      "ID                  712.500000  1068.750000  1425.0  \n"
     ]
    }
   ],
   "source": [
    "analyze.export_scatterplots(article_data, \"text\", tool_order, \"scatterplots_r2\", standardization='min-max')"
   ]
  },
  {
   "cell_type": "code",
   "execution_count": 18,
   "metadata": {},
   "outputs": [
    {
     "name": "stdout",
     "output_type": "stream",
     "text": [
      "                     count          mean         std       min         25%  \\\n",
      "text_recessie       1426.0 -3.927069e-02    0.194306 -1.000000    0.000000   \n",
      "text_boukes         1426.0 -6.975875e-17    1.000351 -5.606200   -0.337070   \n",
      "text_LIWC           1426.0 -3.114230e-17    1.000351 -3.562392   -0.580532   \n",
      "text_sentistrength  1426.0  2.491384e-17    1.000351 -2.464197   -0.333888   \n",
      "text_pattern        1426.0  1.993107e-17    1.000351 -6.201974   -0.551657   \n",
      "text_polyglot       1426.0  3.737076e-17    1.000351 -5.228984   -0.598781   \n",
      "text_DANEW          1426.0  1.245692e-17    1.000351 -5.171816   -0.616530   \n",
      "text_gold           1426.0 -3.737076e-17    1.000351 -1.371454   -0.719121   \n",
      "text_top3           1426.0  1.494830e-17    1.000351 -2.922646   -0.644310   \n",
      "ID                  1426.0  7.125000e+02  411.795054  0.000000  356.250000   \n",
      "\n",
      "                           50%          75%          max  \n",
      "text_recessie         0.000000     0.000000     0.000000  \n",
      "text_boukes          -0.337070     0.248389     7.859354  \n",
      "text_LIWC            -0.221372     0.538710     7.045347  \n",
      "text_sentistrength   -0.333888     0.731267     2.861576  \n",
      "text_pattern          0.007971     0.595951     5.651710  \n",
      "text_polyglot         0.004110     0.600210     3.742034  \n",
      "text_DANEW           -0.049030     0.565722     4.081487  \n",
      "text_gold            -0.066789     1.237877     1.237877  \n",
      "text_top3            -0.014848     0.616659     4.434733  \n",
      "ID                  712.500000  1068.750000  1425.000000  \n"
     ]
    }
   ],
   "source": [
    "analyze.export_scatterplots(article_data, \"text\", tool_order, \"scatterplots_r2\", standardization='z-score')"
   ]
  },
  {
   "cell_type": "code",
   "execution_count": 19,
   "metadata": {},
   "outputs": [
    {
     "name": "stdout",
     "output_type": "stream",
     "text": [
      "                      count      mean       std         min     25%       50%  \\\n",
      "title_recessie       4640.0 -0.001293  0.035940   -1.000000  0.0000  0.000000   \n",
      "title_boukes         4640.0  0.016595  0.249043   -2.000000  0.0000  0.000000   \n",
      "title_LIWC           4640.0 -0.249030  8.622618 -100.000000  0.0000  0.000000   \n",
      "title_sentistrength  4640.0 -0.241164  0.808334   -3.000000  0.0000  0.000000   \n",
      "title_pattern        4640.0 -0.002780  0.225720   -1.000000  0.0000  0.000000   \n",
      "title_polyglot       4640.0  0.045520  0.697669   -1.000000 -0.2125  0.000000   \n",
      "title_DANEW          4640.0  0.056064  0.194030   -1.326222  0.0000  0.020307   \n",
      "title_gold           4640.0 -0.089655  0.747880   -1.000000 -1.0000  0.000000   \n",
      "title_top3           4640.0 -0.003418  0.722481   -4.101097 -0.4002  0.085527   \n",
      "\n",
      "                          75%         max  \n",
      "title_recessie       0.000000    0.000000  \n",
      "title_boukes         0.000000    2.000000  \n",
      "title_LIWC           0.000000  100.000000  \n",
      "title_sentistrength  0.000000    3.000000  \n",
      "title_pattern        0.000000    0.960000  \n",
      "title_polyglot       1.000000    1.000000  \n",
      "title_DANEW          0.138981    2.293778  \n",
      "title_gold           0.000000    1.000000  \n",
      "title_top3           0.571253    4.272150  \n"
     ]
    }
   ],
   "source": [
    "analyze.export_scatterplots(article_data, \"title\", tool_order, \"scatterplots_r2\", standardization=False)"
   ]
  },
  {
   "cell_type": "code",
   "execution_count": 20,
   "metadata": {},
   "outputs": [
    {
     "name": "stdout",
     "output_type": "stream",
     "text": [
      "                      count         mean          std  min          25%  \\\n",
      "title_recessie       4640.0    -0.001293     0.035940 -1.0     0.000000   \n",
      "title_boukes         4640.0     0.008297     0.124522 -1.0     0.000000   \n",
      "title_LIWC           4640.0    -0.002490     0.086226 -1.0     0.000000   \n",
      "title_sentistrength  4640.0    -0.080388     0.269445 -1.0     0.000000   \n",
      "title_pattern        4640.0     0.017571     0.230326 -1.0     0.020408   \n",
      "title_polyglot       4640.0     0.045520     0.697669 -1.0    -0.212500   \n",
      "title_DANEW          4640.0    -0.236306     0.107199 -1.0    -0.267280   \n",
      "title_gold           4640.0    -0.089655     0.747880 -1.0    -1.000000   \n",
      "title_top3           4640.0    -0.021245     0.172569 -1.0    -0.116019   \n",
      "ID                   4640.0  2319.500000  1339.596954  0.0  1159.750000   \n",
      "\n",
      "                              50%          75%     max  \n",
      "title_recessie       0.000000e+00     0.000000     0.0  \n",
      "title_boukes         0.000000e+00     0.000000     1.0  \n",
      "title_LIWC           0.000000e+00     0.000000     1.0  \n",
      "title_sentistrength  0.000000e+00     0.000000     1.0  \n",
      "title_pattern        2.040816e-02     0.020408     1.0  \n",
      "title_polyglot       0.000000e+00     1.000000     1.0  \n",
      "title_DANEW         -2.560613e-01    -0.190495     1.0  \n",
      "title_gold           0.000000e+00     0.000000     1.0  \n",
      "title_top3          -2.220446e-16     0.116019     1.0  \n",
      "ID                   2.319500e+03  3479.250000  4639.0  \n"
     ]
    }
   ],
   "source": [
    "analyze.export_scatterplots(article_data, \"title\", tool_order, \"scatterplots_r2\", standardization='min-max')"
   ]
  },
  {
   "cell_type": "code",
   "execution_count": 21,
   "metadata": {},
   "outputs": [
    {
     "name": "stdout",
     "output_type": "stream",
     "text": [
      "                      count          mean          std        min  \\\n",
      "title_recessie       4640.0 -1.293103e-03     0.035940  -1.000000   \n",
      "title_boukes         4640.0 -7.656711e-19     1.000108  -8.098246   \n",
      "title_LIWC           4640.0  1.531342e-17     1.000108 -11.569771   \n",
      "title_sentistrength  4640.0 -3.062684e-17     1.000108  -3.413360   \n",
      "title_pattern        4640.0 -3.062684e-18     1.000108  -4.418431   \n",
      "title_polyglot       4640.0 -1.837611e-17     1.000108  -1.498752   \n",
      "title_DANEW          4640.0  3.062684e-18     1.000108  -7.124836   \n",
      "title_gold           4640.0 -1.225074e-17     1.000108  -1.217366   \n",
      "title_top3           4640.0  9.188053e-18     1.000108  -5.672284   \n",
      "ID                   4640.0  2.319500e+03  1339.596954   0.000000   \n",
      "\n",
      "                             25%          50%          75%          max  \n",
      "title_recessie          0.000000     0.000000     0.000000     0.000000  \n",
      "title_boukes           -0.066642    -0.066642    -0.066642     7.964963  \n",
      "title_LIWC              0.028884     0.028884     0.028884    11.627540  \n",
      "title_sentistrength     0.298379     0.298379     0.298379     4.010118  \n",
      "title_pattern           0.012317     0.012317     0.012317     4.265835  \n",
      "title_polyglot         -0.369871    -0.065252     1.368247     1.368247  \n",
      "title_DANEW            -0.288976    -0.184308     0.427388    11.534036  \n",
      "title_gold             -1.217366     0.119892     0.119892     1.457150  \n",
      "title_top3             -0.549252     0.123124     0.795499     5.918532  \n",
      "ID                   1159.750000  2319.500000  3479.250000  4639.000000  \n"
     ]
    }
   ],
   "source": [
    "analyze.export_scatterplots(article_data, \"title\", tool_order, \"scatterplots_r2\", standardization='z-score')"
   ]
  },
  {
   "cell_type": "markdown",
   "metadata": {},
   "source": [
    "# Intercoder reliability across tools"
   ]
  },
  {
   "cell_type": "code",
   "execution_count": 23,
   "metadata": {},
   "outputs": [
    {
     "name": "stdout",
     "output_type": "stream",
     "text": [
      "text_recessie\n",
      "text_boukes\n",
      "text_LIWC\n",
      "text_sentistrength\n",
      "text_pattern\n",
      "text_polyglot\n",
      "text_DANEW\n",
      "text_top4\n",
      "text_top3\n",
      "text_top2\n",
      "text_top1\n"
     ]
    }
   ],
   "source": [
    "analyze.export_for_check_intercoder(article_data,'text', 'kalpha_results_r2', trinairize=True,trinary_cutoff=0.5, beta=1, errors=False, normalization='zscore')"
   ]
  },
  {
   "cell_type": "code",
   "execution_count": 24,
   "metadata": {},
   "outputs": [
    {
     "name": "stdout",
     "output_type": "stream",
     "text": [
      "title_recessie\n",
      "title_boukes\n",
      "title_LIWC\n",
      "title_sentistrength\n",
      "title_pattern\n",
      "title_polyglot\n",
      "title_DANEW\n",
      "title_top4\n",
      "title_top3\n",
      "title_top2\n",
      "title_top1\n"
     ]
    }
   ],
   "source": [
    "analyze.export_for_check_intercoder(article_data,'title', 'kalpha_results_r2', trinairize=True,trinary_cutoff=0.5, beta=1, errors=False, normalization='zscore')"
   ]
  },
  {
   "cell_type": "code",
   "execution_count": 25,
   "metadata": {},
   "outputs": [
    {
     "data": {
      "text/plain": [
       "count    5806.000000\n",
       "mean       -0.204487\n",
       "std         9.007601\n",
       "min      -100.000000\n",
       "25%         0.000000\n",
       "50%         0.000000\n",
       "75%         0.000000\n",
       "max       100.000000\n",
       "Name: title_LIWC, dtype: float64"
      ]
     },
     "execution_count": 25,
     "metadata": {},
     "output_type": "execute_result"
    }
   ],
   "source": [
    "data['title_LIWC'].describe()"
   ]
  },
  {
   "cell_type": "code",
   "execution_count": null,
   "metadata": {},
   "outputs": [],
   "source": []
  }
 ],
 "metadata": {
  "anaconda-cloud": {},
  "kernelspec": {
   "display_name": "Python 3",
   "language": "python",
   "name": "python3"
  },
  "language_info": {
   "codemirror_mode": {
    "name": "ipython",
    "version": 3
   },
   "file_extension": ".py",
   "mimetype": "text/x-python",
   "name": "python",
   "nbconvert_exporter": "python",
   "pygments_lexer": "ipython3",
   "version": "3.7.3"
  }
 },
 "nbformat": 4,
 "nbformat_minor": 2
}
